{
 "cells": [
  {
   "cell_type": "code",
   "execution_count": 2,
   "metadata": {},
   "outputs": [],
   "source": [
    "import sys, os\n",
    "sys.path.append(os.pardir)\n",
    "import numpy as np\n",
    "from dataset.mnist import load_mnist\n",
    "from 오차역전파_구현 import *"
   ]
  },
  {
   "cell_type": "code",
   "execution_count": 4,
   "metadata": {},
   "outputs": [
    {
     "name": "stdout",
     "output_type": "stream",
     "text": [
      "0.12736666666666666 0.1236\n",
      "0.9065333333333333 0.9074\n",
      "0.9215833333333333 0.9226\n",
      "0.9357666666666666 0.9347\n",
      "0.9476333333333333 0.9468\n",
      "0.9535333333333333 0.9514\n",
      "0.9582 0.9549\n",
      "0.9616833333333333 0.9587\n",
      "0.9658333333333333 0.9606\n",
      "0.9681333333333333 0.9634\n",
      "0.9693666666666667 0.9637\n",
      "0.9713666666666667 0.9656\n",
      "0.97475 0.9684\n",
      "0.9759 0.9688\n",
      "0.9770166666666666 0.9693\n",
      "0.97795 0.9697\n",
      "0.97915 0.9696\n"
     ]
    }
   ],
   "source": [
    "if __name__ == '__main__':\n",
    "    (x_train, t_train), (x_test, t_test) = load_mnist(normalize=True, one_hot_label=True)\n",
    "    network = TwoLayerNet(input_size = 28*28, hidden_size = 50, output_size = 10)\n",
    "    \n",
    "    iters_num = 10000\n",
    "    train_size = x_train.shape[0]\n",
    "    batch_size = 100\n",
    "    learning_rate = 0.1 #매개변수를 갱신하는 정도\n",
    "    \n",
    "    train_loss_list = []\n",
    "    train_acc_list = []\n",
    "    test_acc_list = []\n",
    "    \n",
    "    iter_per_epoch = max(train_size / batch_size, 1) # 1에폭당 실행 횟수\n",
    "    \n",
    "    for i in range(iters_num):\n",
    "        batch_mask = np.random.choice(train_size, batch_size)\n",
    "        x_batch = x_train[batch_mask]\n",
    "        t_batch = t_train[batch_mask]\n",
    "        \n",
    "        #오차역전파법으로 기울기를 구함.\n",
    "        grad = network.gradient(x_batch, t_batch)\n",
    "        \n",
    "        #갱신\n",
    "        for key in ('W1', 'b1', 'W2', 'b2'):\n",
    "            network.params[key] -= learning_rate *grad[key]\n",
    "            \n",
    "        loss = network.loss(x_batch, t_batch)\n",
    "        train_loss_list.append(loss)\n",
    "        \n",
    "        if i % iter_per_epoch == 0:\n",
    "            train_acc = network.accuracy(x_train, t_train)\n",
    "            test_acc = network.accuracy(x_test, t_test)\n",
    "            train_acc_list.append(train_acc)\n",
    "            test_acc_list.append(test_acc)\n",
    "            print(train_acc, test_acc)\n",
    "    \n",
    "    "
   ]
  },
  {
   "cell_type": "code",
   "execution_count": null,
   "metadata": {},
   "outputs": [],
   "source": []
  }
 ],
 "metadata": {
  "kernelspec": {
   "display_name": "Python 3",
   "language": "python",
   "name": "python3"
  },
  "language_info": {
   "codemirror_mode": {
    "name": "ipython",
    "version": 3
   },
   "file_extension": ".py",
   "mimetype": "text/x-python",
   "name": "python",
   "nbconvert_exporter": "python",
   "pygments_lexer": "ipython3",
   "version": "3.7.3"
  }
 },
 "nbformat": 4,
 "nbformat_minor": 2
}
