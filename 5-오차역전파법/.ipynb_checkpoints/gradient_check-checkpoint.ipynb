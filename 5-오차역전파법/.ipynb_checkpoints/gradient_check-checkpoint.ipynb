{
 "cells": [
  {
   "cell_type": "code",
   "execution_count": 1,
   "metadata": {},
   "outputs": [],
   "source": [
    "from 오차역전파_구현 import *\n",
    "import sys, os\n",
    "sys.path.append(os.pardir)\n",
    "import numpy as np\n",
    "from dataset.mnist import load_mnist"
   ]
  },
  {
   "cell_type": "code",
   "execution_count": 2,
   "metadata": {},
   "outputs": [
    {
     "name": "stdout",
     "output_type": "stream",
     "text": [
      "W1:3.447815138923671e-10\n",
      "b1:1.8468049207601536e-09\n",
      "W2:5.387934709229946e-09\n",
      "b2:1.395495902264954e-07\n"
     ]
    }
   ],
   "source": [
    "if __name__ == '__main__':\n",
    "    (x_train, t_train), (x_test, t_test) = load_mnist(normalize=True, one_hot_label = True)\n",
    "    \n",
    "    network = TwoLayerNet(input_size = 784, hidden_size = 50, output_size = 10)\n",
    "    \n",
    "    x_batch = x_train[:3]\n",
    "    t_batch = t_train[:3]\n",
    "    \n",
    "    grad_numerical = network.numerical_gradient(x_batch, t_batch)\n",
    "    grad_backprop = network.gradient(x_batch, t_batch)\n",
    "    \n",
    "    #각 가중치의 차이의 절댓값을 구한 후 , 그 절댓값들의 평균을 낸다. \n",
    "    for key in grad_numerical.keys():\n",
    "        diff = np.average(np.abs(grad_backprop[key] - grad_numerical[key]))\n",
    "        print(key + \":\" + str(diff))"
   ]
  },
  {
   "cell_type": "code",
   "execution_count": null,
   "metadata": {},
   "outputs": [],
   "source": []
  }
 ],
 "metadata": {
  "kernelspec": {
   "display_name": "Python 3",
   "language": "python",
   "name": "python3"
  },
  "language_info": {
   "codemirror_mode": {
    "name": "ipython",
    "version": 3
   },
   "file_extension": ".py",
   "mimetype": "text/x-python",
   "name": "python",
   "nbconvert_exporter": "python",
   "pygments_lexer": "ipython3",
   "version": "3.7.3"
  }
 },
 "nbformat": 4,
 "nbformat_minor": 2
}
