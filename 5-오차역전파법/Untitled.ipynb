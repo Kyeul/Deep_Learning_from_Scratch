{
 "cells": [
  {
   "cell_type": "markdown",
   "metadata": {},
   "source": [
    "계산그래프의 덧셈, 곱셈 계층 구현과 테스트"
   ]
  },
  {
   "cell_type": "code",
   "execution_count": 3,
   "metadata": {},
   "outputs": [],
   "source": [
    "import numpy as np"
   ]
  },
  {
   "cell_type": "code",
   "execution_count": null,
   "metadata": {},
   "outputs": [],
   "source": [
    "class MulLayer:\n",
    "    def __init__(self):\n",
    "        self.x = None\n",
    "        self.y = None\n",
    "        \n",
    "    def forward(self, x, y):\n",
    "        self.x = x\n",
    "        self.y = y\n",
    "        \n",
    "        out = x*y\n",
    "        \n",
    "        return out\n",
    "    \n",
    "    def backward(self, dout):\n",
    "        dx = dout * self.y\n",
    "        dy = dout * self.x\n",
    "        \n",
    "        return dx, dy\n",
    "    \n",
    "class AddLayer:\n",
    "    def __init__(self):\n",
    "        pass\n",
    "    \n",
    "    def forward(x, y):\n",
    "        out = x+y\n",
    "        return out\n",
    "    \n",
    "    def backward(dout):\n",
    "        dx = dout*1\n",
    "        dy = dout*1\n",
    "        return dx, dy"
   ]
  },
  {
   "cell_type": "code",
   "execution_count": 5,
   "metadata": {},
   "outputs": [],
   "source": [
    "class Relu:\n",
    "    def __init__(self):\n",
    "        self.mask = None\n",
    "    \n",
    "    def forward(self, x):\n",
    "        self.mask = (x <=0)\n",
    "        out = x.copy()\n",
    "        \n",
    "        return out\n",
    "    \n",
    "    def backward(self, dout):\n",
    "        dout[self.mask] = 0\n",
    "        dx = dout\n",
    "        \n",
    "        return dx\n",
    "    \n",
    "class Sigmoid:\n",
    "    def __init__(self):\n",
    "        self.out = None\n",
    "        \n",
    "    def forward(self, x):\n",
    "        out = 1/(1+np.exp(-x))\n",
    "        self.out = out\n",
    "        \n",
    "        return out\n",
    "    \n",
    "    def backward(self, dout):\n",
    "        dx = dout*(1.0 - self.out) * self.out\n",
    "        \n",
    "        return dx"
   ]
  },
  {
   "cell_type": "code",
   "execution_count": 21,
   "metadata": {},
   "outputs": [
    {
     "name": "stdout",
     "output_type": "stream",
     "text": [
      "715.0000000000001\n",
      "2.2 110.00000000000001 3.3000000000000003 165.0 650\n"
     ]
    }
   ],
   "source": [
    "if __name__ == \"__main__\":\n",
    "    #순전파\n",
    "    \n",
    "    apple = 100\n",
    "    apple_num = 2\n",
    "    orange = 150\n",
    "    orange_num = 3\n",
    "    tax = 1.1\n",
    "    \n",
    "    #계층들\n",
    "    mul_apple_layer = MulLayer()\n",
    "    mul_orange_layer = MulLayer()\n",
    "    add_apple_orange_layer = AddLayer\n",
    "    mul_tax_layer = MulLayer()\n",
    "    \n",
    "    #순전파\n",
    "    apple_price = mul_apple_layer.forward(apple, apple_num)\n",
    "    orange_price = mul_orange_layer.forward(orange, orange_num)\n",
    "    all_price = add_apple_orange_layer.forward(apple_price, orange_price)\n",
    "    price = mul_tax_layer.forward(all_price, tax)\n",
    "    print(price)\n",
    "    \n",
    "    #역전파\n",
    "    dprice = 1\n",
    "    dall_price, dtax = mul_tax_layer.backward(dprice) \n",
    "    dapple_price, dorange_price = add_apple_orange_layer.backward(dall_price)\n",
    "    dapple, dapple_num = mul_apple_layer.backward(dapple_price)\n",
    "    dorange, dorange_num = mul_orange_layer.backward(dorange_price)\n",
    "    \n",
    "    print(dapple, dapple_num, dorange, dorange_num, dtax)"
   ]
  },
  {
   "cell_type": "code",
   "execution_count": null,
   "metadata": {},
   "outputs": [],
   "source": []
  }
 ],
 "metadata": {
  "kernelspec": {
   "display_name": "Python 3",
   "language": "python",
   "name": "python3"
  },
  "language_info": {
   "codemirror_mode": {
    "name": "ipython",
    "version": 3
   },
   "file_extension": ".py",
   "mimetype": "text/x-python",
   "name": "python",
   "nbconvert_exporter": "python",
   "pygments_lexer": "ipython3",
   "version": "3.7.3"
  }
 },
 "nbformat": 4,
 "nbformat_minor": 2
}
